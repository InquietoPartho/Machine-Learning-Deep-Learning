{
  "nbformat": 4,
  "nbformat_minor": 0,
  "metadata": {
    "colab": {
      "provenance": [],
      "authorship_tag": "ABX9TyOjP7/AUpCQz1oJOSo6xiZe"
    },
    "kernelspec": {
      "name": "python3",
      "display_name": "Python 3"
    },
    "language_info": {
      "name": "python"
    }
  },
  "cells": [
    {
      "cell_type": "code",
      "execution_count": 1,
      "metadata": {
        "id": "RDxGFxBHmMD6"
      },
      "outputs": [],
      "source": [
        "import numpy as np"
      ]
    },
    {
      "cell_type": "code",
      "source": [
        "matrix_1 = np.array([[1,2],[3,4]])"
      ],
      "metadata": {
        "id": "PDLvID5pvzJJ"
      },
      "execution_count": 2,
      "outputs": []
    },
    {
      "cell_type": "code",
      "source": [
        "print(matrix_1)"
      ],
      "metadata": {
        "colab": {
          "base_uri": "https://localhost:8080/"
        },
        "id": "whpVJ1NGwCGX",
        "outputId": "00577b57-dc2e-4fae-b28a-b77a8c221168"
      },
      "execution_count": 3,
      "outputs": [
        {
          "output_type": "stream",
          "name": "stdout",
          "text": [
            "[[1 2]\n",
            " [3 4]]\n"
          ]
        }
      ]
    },
    {
      "cell_type": "code",
      "source": [
        "matrix_1.shape"
      ],
      "metadata": {
        "colab": {
          "base_uri": "https://localhost:8080/"
        },
        "id": "faUFT_RPwEMe",
        "outputId": "12375104-5f8c-47d7-d553-6202a9879899"
      },
      "execution_count": 4,
      "outputs": [
        {
          "output_type": "execute_result",
          "data": {
            "text/plain": [
              "(2, 2)"
            ]
          },
          "metadata": {},
          "execution_count": 4
        }
      ]
    },
    {
      "cell_type": "markdown",
      "source": [
        "Matrix with random values"
      ],
      "metadata": {
        "id": "FOru7hc_wMDb"
      }
    },
    {
      "cell_type": "code",
      "source": [
        "matrix_2 = np.random.rand(4,4) #all points are between 0 and 1 and floating points\n",
        "print(matrix_2)\n"
      ],
      "metadata": {
        "colab": {
          "base_uri": "https://localhost:8080/"
        },
        "id": "jsP60cKpwI4T",
        "outputId": "c7d79c27-b5e9-4893-9b77-e70d92159c03"
      },
      "execution_count": 14,
      "outputs": [
        {
          "output_type": "stream",
          "name": "stdout",
          "text": [
            "[[0.68910082 0.63399369 0.25799066 0.18125607]\n",
            " [0.17532345 0.34832751 0.6074963  0.53978145]\n",
            " [0.15359601 0.37664638 0.74661494 0.99697783]\n",
            " [0.54462312 0.69673404 0.45468146 0.24092186]]\n"
          ]
        }
      ]
    },
    {
      "cell_type": "markdown",
      "source": [
        "Matrix with random integers"
      ],
      "metadata": {
        "id": "dk1izEKRwnyw"
      }
    },
    {
      "cell_type": "code",
      "source": [
        "matrix_3 = np.random.randint(10,size = (4,4))\n",
        "print(matrix_3)"
      ],
      "metadata": {
        "colab": {
          "base_uri": "https://localhost:8080/"
        },
        "id": "W19VEf6NwUrn",
        "outputId": "3bb59d6b-5d18-4dd7-9b6f-0fde959f3ac1"
      },
      "execution_count": 11,
      "outputs": [
        {
          "output_type": "stream",
          "name": "stdout",
          "text": [
            "[[6 9 5 1]\n",
            " [4 8 9 5]\n",
            " [3 0 1 7]\n",
            " [9 9 6 2]]\n"
          ]
        }
      ]
    },
    {
      "cell_type": "markdown",
      "source": [
        "Null Matrix"
      ],
      "metadata": {
        "id": "k2RZXUWEySta"
      }
    },
    {
      "cell_type": "code",
      "source": [
        "null = np.zeros((4,4), dtype =int)\n",
        "print(null)"
      ],
      "metadata": {
        "colab": {
          "base_uri": "https://localhost:8080/"
        },
        "id": "QBY5xjwHwyGk",
        "outputId": "fb75a77f-b551-48e8-86bc-58dd7fcaf702"
      },
      "execution_count": 23,
      "outputs": [
        {
          "output_type": "stream",
          "name": "stdout",
          "text": [
            "[[0 0 0 0]\n",
            " [0 0 0 0]\n",
            " [0 0 0 0]\n",
            " [0 0 0 0]]\n"
          ]
        }
      ]
    },
    {
      "cell_type": "code",
      "source": [
        "one =  np.ones((4,4))\n",
        "print(one)"
      ],
      "metadata": {
        "colab": {
          "base_uri": "https://localhost:8080/"
        },
        "id": "_Qe855nFyY2j",
        "outputId": "d4456e1d-f502-42f4-d510-8fb5769fc8f2"
      },
      "execution_count": 21,
      "outputs": [
        {
          "output_type": "stream",
          "name": "stdout",
          "text": [
            "[[1. 1. 1. 1.]\n",
            " [1. 1. 1. 1.]\n",
            " [1. 1. 1. 1.]\n",
            " [1. 1. 1. 1.]]\n"
          ]
        }
      ]
    },
    {
      "cell_type": "code",
      "source": [
        "one_1 = np.ones((4,4),dtype = int)\n",
        "print(one_1)"
      ],
      "metadata": {
        "colab": {
          "base_uri": "https://localhost:8080/"
        },
        "id": "dYhILsYNytm0",
        "outputId": "4282212c-51b6-4477-9733-8e6e72361f68"
      },
      "execution_count": 22,
      "outputs": [
        {
          "output_type": "stream",
          "name": "stdout",
          "text": [
            "[[1 1 1 1]\n",
            " [1 1 1 1]\n",
            " [1 1 1 1]\n",
            " [1 1 1 1]]\n"
          ]
        }
      ]
    },
    {
      "cell_type": "markdown",
      "source": [
        "Identity Matrix"
      ],
      "metadata": {
        "id": "_UKrSCdkz7sy"
      }
    },
    {
      "cell_type": "code",
      "source": [
        "identity = np.eye(3,3)\n",
        "print(identity)"
      ],
      "metadata": {
        "colab": {
          "base_uri": "https://localhost:8080/"
        },
        "id": "qfLqTCYjy7Sb",
        "outputId": "74fbf91e-d1ab-4397-b33d-9e7b433bd7b2"
      },
      "execution_count": 24,
      "outputs": [
        {
          "output_type": "stream",
          "name": "stdout",
          "text": [
            "[[1. 0. 0.]\n",
            " [0. 1. 0.]\n",
            " [0. 0. 1.]]\n"
          ]
        }
      ]
    },
    {
      "cell_type": "markdown",
      "source": [
        "Transpose of a matrix"
      ],
      "metadata": {
        "id": "FKROOtBG0Hio"
      }
    },
    {
      "cell_type": "code",
      "source": [
        "a = np.random.randint(100,size = (5,5))\n",
        "print(a)"
      ],
      "metadata": {
        "colab": {
          "base_uri": "https://localhost:8080/"
        },
        "id": "_PmTyuif0BDb",
        "outputId": "1fd8f53c-e3b7-458c-bedd-7b784f3a4c1d"
      },
      "execution_count": 25,
      "outputs": [
        {
          "output_type": "stream",
          "name": "stdout",
          "text": [
            "[[18 54  1 44 49]\n",
            " [60 22  5 90 17]\n",
            " [97 16 94 65 80]\n",
            " [32 67 46 79 97]\n",
            " [44 14 25 42 14]]\n"
          ]
        }
      ]
    },
    {
      "cell_type": "code",
      "source": [
        "transpose_a = np.transpose(a)\n",
        "print(transpose_a)"
      ],
      "metadata": {
        "colab": {
          "base_uri": "https://localhost:8080/"
        },
        "id": "ci9tVwqL0SDs",
        "outputId": "5062e39a-96ab-42e9-870d-169d5c95c2c3"
      },
      "execution_count": 26,
      "outputs": [
        {
          "output_type": "stream",
          "name": "stdout",
          "text": [
            "[[18 60 97 32 44]\n",
            " [54 22 16 67 14]\n",
            " [ 1  5 94 46 25]\n",
            " [44 90 65 79 42]\n",
            " [49 17 80 97 14]]\n"
          ]
        }
      ]
    },
    {
      "cell_type": "code",
      "source": [],
      "metadata": {
        "id": "UlMS1Ky00geX"
      },
      "execution_count": null,
      "outputs": []
    }
  ]
}