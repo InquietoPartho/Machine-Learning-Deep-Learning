{
  "nbformat": 4,
  "nbformat_minor": 0,
  "metadata": {
    "colab": {
      "provenance": [],
      "authorship_tag": "ABX9TyPnUQmzJQIwYMaeI+9hkr1p",
      "include_colab_link": true
    },
    "kernelspec": {
      "name": "python3",
      "display_name": "Python 3"
    },
    "language_info": {
      "name": "python"
    }
  },
  "cells": [
    {
      "cell_type": "markdown",
      "metadata": {
        "id": "view-in-github",
        "colab_type": "text"
      },
      "source": [
        "<a href=\"https://colab.research.google.com/github/InquietoPartho/Machine-Learning-Deep-Learning/blob/main/Sentimenal_Analysis.ipynb\" target=\"_parent\"><img src=\"https://colab.research.google.com/assets/colab-badge.svg\" alt=\"Open In Colab\"/></a>"
      ]
    },
    {
      "cell_type": "code",
      "source": [
        "!pip install vaderSentiment\n",
        "import pandas as pd\n",
        "import numpy as np\n",
        "import matplotlib.pyplot as plt\n",
        "from vaderSentiment.vaderSentiment import SentimentIntensityAnalyzer\n",
        "\n",
        "# Read the WhatsApp message data from a text file\n",
        "with open('/content/Happy And Sad.txt', 'r') as file:  # Replace 'whatsapp_messages.txt' with your file name\n",
        "    messages = file.readlines()\n",
        "\n",
        "# Initialize the VADER sentiment analyzer\n",
        "analyzer = SentimentIntensityAnalyzer()\n",
        "\n",
        "# Function to calculate sentiment scores\n",
        "def sentiment_score(text):\n",
        "    scores = analyzer.polarity_scores(text)\n",
        "    compound_score = scores['compound']\n",
        "    return compound_score\n",
        "\n",
        "# Apply sentiment analysis on messages\n",
        "message_sentiments = [sentiment_score(message) for message in messages]\n",
        "\n",
        "# Calculate sentiment percentages\n",
        "positive_percentage = len([score for score in message_sentiments if score > 0]) / len(message_sentiments) * 100\n",
        "negative_percentage = len([score for score in message_sentiments if score < 0]) / len(message_sentiments) * 100\n",
        "neutral_percentage = len([score for score in message_sentiments if score == 0]) / len(message_sentiments) * 100\n",
        "\n",
        "# Display the sentiment percentages\n",
        "print(\"Sentiment Analysis Results:\")\n",
        "print(\"Positive: {:.2f}%\".format(positive_percentage))\n",
        "print(\"Negative: {:.2f}%\".format(negative_percentage))\n",
        "print(\"Neutral: {:.2f}%\".format(neutral_percentage))\n",
        "\n",
        "# Plot the sentiment percentages\n",
        "labels = ['Positive', 'Negative', 'Neutral']\n",
        "sizes = [positive_percentage, negative_percentage, neutral_percentage]\n",
        "colors = ['green', 'red', 'gray']\n",
        "explode = (0.1, 0.1, 0.1)  # Explode the slices for emphasis\n",
        "\n",
        "plt.pie(sizes, explode=explode, labels=labels, colors=colors, autopct='%1.1f%%',\n",
        "        shadow=True, startangle=90)\n",
        "plt.axis('equal')  # Equal aspect ratio ensures that pie is drawn as a circle\n",
        "plt.title('Sentiment Analysis of WhatsApp Messages')\n",
        "plt.show()\n"
      ],
      "metadata": {
        "colab": {
          "base_uri": "https://localhost:8080/",
          "height": 339
        },
        "id": "Wa457RH935Cz",
        "outputId": "fa285ce8-c355-4c0f-ba6f-736fecd5fa0b"
      },
      "execution_count": null,
      "outputs": [
        {
          "output_type": "stream",
          "name": "stdout",
          "text": [
            "Requirement already satisfied: vaderSentiment in /usr/local/lib/python3.10/dist-packages (3.3.2)\n",
            "Requirement already satisfied: requests in /usr/local/lib/python3.10/dist-packages (from vaderSentiment) (2.27.1)\n",
            "Requirement already satisfied: urllib3<1.27,>=1.21.1 in /usr/local/lib/python3.10/dist-packages (from requests->vaderSentiment) (1.26.16)\n",
            "Requirement already satisfied: certifi>=2017.4.17 in /usr/local/lib/python3.10/dist-packages (from requests->vaderSentiment) (2023.5.7)\n",
            "Requirement already satisfied: charset-normalizer~=2.0.0 in /usr/local/lib/python3.10/dist-packages (from requests->vaderSentiment) (2.0.12)\n",
            "Requirement already satisfied: idna<4,>=2.5 in /usr/local/lib/python3.10/dist-packages (from requests->vaderSentiment) (3.4)\n"
          ]
        },
        {
          "output_type": "error",
          "ename": "FileNotFoundError",
          "evalue": "ignored",
          "traceback": [
            "\u001b[0;31m---------------------------------------------------------------------------\u001b[0m",
            "\u001b[0;31mFileNotFoundError\u001b[0m                         Traceback (most recent call last)",
            "\u001b[0;32m<ipython-input-4-88bfbefbfcef>\u001b[0m in \u001b[0;36m<cell line: 8>\u001b[0;34m()\u001b[0m\n\u001b[1;32m      6\u001b[0m \u001b[0;34m\u001b[0m\u001b[0m\n\u001b[1;32m      7\u001b[0m \u001b[0;31m# Read the WhatsApp message data from a text file\u001b[0m\u001b[0;34m\u001b[0m\u001b[0;34m\u001b[0m\u001b[0m\n\u001b[0;32m----> 8\u001b[0;31m \u001b[0;32mwith\u001b[0m \u001b[0mopen\u001b[0m\u001b[0;34m(\u001b[0m\u001b[0;34m'/content/Happy And Sad.txt'\u001b[0m\u001b[0;34m,\u001b[0m \u001b[0;34m'r'\u001b[0m\u001b[0;34m)\u001b[0m \u001b[0;32mas\u001b[0m \u001b[0mfile\u001b[0m\u001b[0;34m:\u001b[0m  \u001b[0;31m# Replace 'whatsapp_messages.txt' with your file name\u001b[0m\u001b[0;34m\u001b[0m\u001b[0;34m\u001b[0m\u001b[0m\n\u001b[0m\u001b[1;32m      9\u001b[0m     \u001b[0mmessages\u001b[0m \u001b[0;34m=\u001b[0m \u001b[0mfile\u001b[0m\u001b[0;34m.\u001b[0m\u001b[0mreadlines\u001b[0m\u001b[0;34m(\u001b[0m\u001b[0;34m)\u001b[0m\u001b[0;34m\u001b[0m\u001b[0;34m\u001b[0m\u001b[0m\n\u001b[1;32m     10\u001b[0m \u001b[0;34m\u001b[0m\u001b[0m\n",
            "\u001b[0;31mFileNotFoundError\u001b[0m: [Errno 2] No such file or directory: '/content/Happy And Sad.txt'"
          ]
        }
      ]
    },
    {
      "cell_type": "code",
      "source": [
        "import pandas as pd\n",
        "import numpy as np\n",
        "import matplotlib.pyplot as plt\\\\images\\\\logo-vertical.svg\n",
        "from vaderSentiment.vaderSentiment import SentimentIntensityAnalyzer\n",
        "\n",
        "# Read the WhatsApp message data from a text file\n",
        "with open('/content/Sad.txt', 'r') as file:  # Replace 'whatsapp_messages.txt' with your file name\n",
        "    messages = file.readlines()\n",
        "\n",
        "# Initialize the VADER sentiment analyzer\n",
        "analyzer = SentimentIntensityAnalyzer()\n",
        "\n",
        "# Function to calculate sentiment scores\n",
        "def sentiment_score(text):\n",
        "    scores = analyzer.polarity_scores(text)\n",
        "    compound_score = scores['compound']\n",
        "    return compound_score\n",
        "\n",
        "# User input from text box\n",
        "user_input = input(\"Enter your additional text: \")\n",
        "if user_input:\n",
        "    messages.append(user_input)\n",
        "\n",
        "# Apply sentiment analysis on messages\n",
        "message_sentiments = [sentiment_score(message) for message in messages]\n",
        "\n",
        "# Calculate sentiment percentages\n",
        "positive_percentage = len([score for score in message_sentiments if score > 0]) / len(message_sentiments) * 100\n",
        "negative_percentage = len([score for score in message_sentiments if score < 0]) / len(message_sentiments) * 100\n",
        "neutral_percentage = len([score for score in message_sentiments if score == 0]) / len(message_sentiments) * 100\n",
        "\n",
        "# Display the sentiment percentages\n",
        "print(\"Sentiment Analysis Results:\")\n",
        "print(\"Positive: {:.2f}%\".format(positive_percentage))\n",
        "print(\"Negative: {:.2f}%\".format(negative_percentage))\n",
        "print(\"Neutral: {:.2f}%\".format(neutral_percentage))\n",
        "\n",
        "# Plot the sentiment percentages\n",
        "labels = ['Positive', 'Negative', 'Neutral']\n",
        "sizes = [positive_percentage, negative_percentage, neutral_percentage]\n",
        "colors = ['green', 'red', 'gray']\n",
        "explode = (0.1, 0.1, 0.1)  # Explode the slices for emphasis\n",
        "\n",
        "plt.pie(sizes, explode=explode, labels=labels, colors=colors, autopct='%1.1f%%',\n",
        "        shadow=True, startangle=90)\n",
        "plt.axis('equal')  # Equal aspect ratio ensures that pie is drawn as a circle\n",
        "plt.title('Sentiment Analysis of WhatsApp Messages')\n",
        "plt.show()\n"
      ],
      "metadata": {
        "colab": {
          "base_uri": "https://localhost:8080/",
          "height": 541
        },
        "id": "h1AZJ2h656Pl",
        "outputId": "cc1c9e4f-d8d6-47c0-b8ff-93b529906d2f"
      },
      "execution_count": null,
      "outputs": [
        {
          "output_type": "stream",
          "name": "stdout",
          "text": [
            "Enter your additional text: The sad man carries the weight of his emotions like a heavy burden upon his shoulders. His countenance bears the marks of sorrow, etched deeply into every line and crease. The light that once sparkled in his eyes has dimmed, replaced by a somber and distant gaze. Each step he takes seems labored, as if the weight of his sadness slows his progress through life. His laughter, once vibrant, has become a rare occurrence, drowned out by the weight of his melancholy. The sad man navigates through a world tinted with shades of gray, finding it difficult to see the beauty that surrounds him. His heart aches with unspoken sorrows and unfulfilled desires, and his spirit feels burdened by the weight of unshed tears. In his presence, a palpable sense of melancholy hangs in the air, enveloping those around him. Yet, within the depths of his sadness, lies a profound sensitivity and depth of understanding that only the truly sorrowful can possess. The sad man reminds us of the fragile nature of our emotions and the importance of offering compassion and support to those who carry the weight of sadness within them.\n",
            "Sentiment Analysis Results:\n",
            "Positive: 0.00%\n",
            "Negative: 100.00%\n",
            "Neutral: 0.00%\n"
          ]
        },
        {
          "output_type": "display_data",
          "data": {
            "text/plain": [
              "<Figure size 640x480 with 1 Axes>"
            ],
            "image/png": "[encoded data removed]"
          },
          "metadata": {}
        }
      ]
    },
    {
      "cell_type": "code",
      "source": [
        "import pandas as pd\n",
        "import numpy as np\n",
        "import matplotlib.pyplot as plt\n",
        "from vaderSentiment.vaderSentiment import SentimentIntensityAnalyzer #eta amader main dictionary-r kaaj korteche\n",
        "\n",
        "# Function to calculate sentiment scores\n",
        "def sentiment_score(text):\n",
        "    scores = analyzer.polarity_scores(text)\n",
        "    compound_score = scores['compound']\n",
        "    return compound_score\n",
        "\n",
        "# User input method selection\n",
        "method = input(\"Choose method: \\n1. WhatsApp message text file\\n2. Text box\\n\")\n",
        "\n",
        "# Eta apner Sentiment analyze korbe\n",
        "analyzer = SentimentIntensityAnalyzer()\n",
        "\n",
        "if method == \"1\":\n",
        "    # ami eikhane 2 ta option dilam, jodi 1 hoy tahole eikhane whatsapp er text ta analyze korbe.\n",
        "    with open('/content/whatsapp.txt', 'r') as file:  # eikhane whatsapp er message file ta thakbe.\n",
        "        messages = file.readlines()\n",
        "\n",
        "elif method == \"2\":\n",
        "    # jodi 2 nen tahole text box e apanke message ta dite hobe\n",
        "    user_input = input(\"Enter your text: \")\n",
        "    messages = [user_input]\n",
        "\n",
        "else:\n",
        "    print(\"Invalid input. Please choose a valid option.\")\n",
        "    exit()\n",
        "\n",
        "#eikhane ami apner analyzer ta apply korbo.\n",
        "message_sentiments = [sentiment_score(message) for message in messages]\n",
        "\n",
        "# eikhane hiseb kortechi sentiment gula.\n",
        "positive_percentage = len([score for score in message_sentiments if score > 0]) / len(message_sentiments) * 100\n",
        "negative_percentage = len([score for score in message_sentiments if score < 0]) / len(message_sentiments) * 100\n",
        "neutral_percentage = len([score for score in message_sentiments if score == 0]) / len(message_sentiments) * 100\n",
        "\n",
        "# eikhane apner matpoltlib diye pie chart ta kivabe  result show korabe seta kore rakhchi.\n",
        "print(\"Sentiment Analysis Results:\")\n",
        "print(\"Positive: {:.2f}%\".format(positive_percentage))\n",
        "print(\"Negative: {:.2f}%\".format(negative_percentage))\n",
        "print(\"Neutral: {:.2f}%\".format(neutral_percentage))\n",
        "\n",
        "# Plot the sentiment percentages\n",
        "labels = ['Positive', 'Negative', 'Neutral']\n",
        "sizes = [positive_percentage, negative_percentage, neutral_percentage]\n",
        "colors = ['green', 'red', 'gray']\n",
        "explode = (0.1, 0.1, 0.1)\n",
        "\n",
        "plt.pie(sizes, explode=explode, labels=labels, colors=colors, autopct='%1.1f%%',\n",
        "        shadow=True, startangle=90)\n",
        "plt.axis('equal')\n",
        "plt.title('Sentiment Analysis of WhatsApp Messages')\n",
        "plt.show()\n"
      ],
      "metadata": {
        "colab": {
          "base_uri": "https://localhost:8080/",
          "height": 590
        },
        "id": "vcMgR5zs4lcB",
        "outputId": "9bec67ea-be93-49f0-aa52-f2d51eddbe2a"
      },
      "execution_count": null,
      "outputs": [
        {
          "output_type": "stream",
          "name": "stdout",
          "text": [
            "Choose method: \n",
            "1. WhatsApp message text file\n",
            "2. Text box\n",
            "2\n",
            "Enter your text: I want to marry \n",
            "Sentiment Analysis Results:\n",
            "Positive: 100.00%\n",
            "Negative: 0.00%\n",
            "Neutral: 0.00%\n"
          ]
        },
        {
          "output_type": "display_data",
          "data": {
            "text/plain": [
              "<Figure size 640x480 with 1 Axes>"
            ],
            "image/png": "[encoded data removed]"
          },
          "metadata": {}
        }
      ]
    },
    {
      "cell_type": "markdown",
      "source": [
        "#upload file manually"
      ],
      "metadata": {
        "id": "blScs2e2BMsD"
      }
    },
    {
      "cell_type": "code",
      "source": [
        "import pandas as pd\n",
        "import numpy as np\n",
        "import matplotlib.pyplot as plt\n",
        "from vaderSentiment.vaderSentiment import SentimentIntensityAnalyzer\n",
        "\n",
        "# Function to calculate sentiment scores\n",
        "def sentiment_score(text):\n",
        "    scores = analyzer.polarity_scores(text)\n",
        "    compound_score = scores['compound']\n",
        "    return compound_score\n",
        "\n",
        "# User input method selection\n",
        "method = input(\"Choose method: \\n1. WhatsApp message text file\\n2. Text box\\n\")\n",
        "\n",
        "# Initialize the VADER sentiment analyzer\n",
        "analyzer = SentimentIntensityAnalyzer()\n",
        "\n",
        "if method == \"1\":\n",
        "    # Manually upload WhatsApp message text file\n",
        "    file_path = input(\"Enter the file path: \")\n",
        "\n",
        "    # Read the WhatsApp message data from the selected text file\n",
        "    with open(file_path, 'r') as file:\n",
        "        messages = file.readlines()\n",
        "\n",
        "elif method == \"2\":\n",
        "    # User input from text box\n",
        "    user_input = input(\"Enter your text: \")\n",
        "    messages = [user_input]\n",
        "\n",
        "else:\n",
        "    print(\"Invalid input. Please choose a valid option.\")\n",
        "    exit()\n",
        "\n",
        "# Apply sentiment analysis on messages\n",
        "message_sentiments = [sentiment_score(message) for message in messages]\n",
        "\n",
        "# Calculate sentiment percentages\n",
        "positive_percentage = (len([score for score in message_sentiments if score > 0]) / len(message_sentiments)) * 100\n",
        "negative_percentage = (len([score for score in message_sentiments if score < 0]) / len(message_sentiments)) * 100\n",
        "neutral_percentage = 100 - positive_percentage - negative_percentage\n",
        "\n",
        "# Display the sentiment percentages\n",
        "print(\"Sentiment Analysis Results:\")\n",
        "print(\"Positive: {:.2f}%\".format(positive_percentage))\n",
        "print(\"Negative: {:.2f}%\".format(negative_percentage))\n",
        "print(\"Neutral: {:.2f}%\".format(neutral_percentage))\n",
        "\n",
        "# Horizontal bar chart\n",
        "labels = ['Positive', 'Negative', 'Neutral']\n",
        "sizes = [positive_percentage, negative_percentage, neutral_percentage]\n",
        "colors = ['#3CB371', '#FF6347', '#808080']  # Custom colors for positive, negative, and neutral bars\n",
        "\n",
        "plt.barh(labels, sizes, color=colors)\n",
        "\n",
        "for i, v in enumerate(sizes):\n",
        "    plt.text(v + 1, i, f\"{v:.2f}%\", color='black', va='center')\n",
        "\n",
        "plt.title('Sentiment Analysis of Messages')\n",
        "plt.xlabel('Percentage')\n",
        "plt.ylabel('Sentiment')\n",
        "plt.xlim(0, 100)\n",
        "plt.grid(axis='x', linestyle='--', alpha=0.5)\n",
        "\n",
        "plt.show()\n"
      ],
      "metadata": {
        "colab": {
          "base_uri": "https://localhost:8080/",
          "height": 374
        },
        "id": "WBdBRbfxEcHf",
        "outputId": "cd5c4265-09ba-4452-d625-3dac49337ec6"
      },
      "execution_count": null,
      "outputs": [
        {
          "output_type": "error",
          "ename": "ModuleNotFoundError",
          "evalue": "ignored",
          "traceback": [
            "\u001b[0;31m---------------------------------------------------------------------------\u001b[0m",
            "\u001b[0;31mModuleNotFoundError\u001b[0m                       Traceback (most recent call last)",
            "\u001b[0;32m<ipython-input-1-3f5fc5c581cc>\u001b[0m in \u001b[0;36m<cell line: 4>\u001b[0;34m()\u001b[0m\n\u001b[1;32m      2\u001b[0m \u001b[0;32mimport\u001b[0m \u001b[0mnumpy\u001b[0m \u001b[0;32mas\u001b[0m \u001b[0mnp\u001b[0m\u001b[0;34m\u001b[0m\u001b[0;34m\u001b[0m\u001b[0m\n\u001b[1;32m      3\u001b[0m \u001b[0;32mimport\u001b[0m \u001b[0mmatplotlib\u001b[0m\u001b[0;34m.\u001b[0m\u001b[0mpyplot\u001b[0m \u001b[0;32mas\u001b[0m \u001b[0mplt\u001b[0m\u001b[0;34m\u001b[0m\u001b[0;34m\u001b[0m\u001b[0m\n\u001b[0;32m----> 4\u001b[0;31m \u001b[0;32mfrom\u001b[0m \u001b[0mvaderSentiment\u001b[0m\u001b[0;34m.\u001b[0m\u001b[0mvaderSentiment\u001b[0m \u001b[0;32mimport\u001b[0m \u001b[0mSentimentIntensityAnalyzer\u001b[0m\u001b[0;34m\u001b[0m\u001b[0;34m\u001b[0m\u001b[0m\n\u001b[0m\u001b[1;32m      5\u001b[0m \u001b[0;34m\u001b[0m\u001b[0m\n\u001b[1;32m      6\u001b[0m \u001b[0;31m# Function to calculate sentiment scores\u001b[0m\u001b[0;34m\u001b[0m\u001b[0;34m\u001b[0m\u001b[0m\n",
            "\u001b[0;31mModuleNotFoundError\u001b[0m: No module named 'vaderSentiment'",
            "",
            "\u001b[0;31m---------------------------------------------------------------------------\u001b[0;32m\nNOTE: If your import is failing due to a missing package, you can\nmanually install dependencies using either !pip or !apt.\n\nTo view examples of installing some common dependencies, click the\n\"Open Examples\" button below.\n\u001b[0;31m---------------------------------------------------------------------------\u001b[0m\n"
          ],
          "errorDetails": {
            "actions": [
              {
                "action": "open_url",
                "actionText": "Open Examples",
                "url": "/notebooks/snippets/importing_libraries.ipynb"
              }
            ]
          }
        }
      ]
    },
    {
      "cell_type": "code",
      "source": [
        "import pandas as pd\n",
        "import numpy as np\n",
        "import matplotlib.pyplot as plt\n",
        "from vaderSentiment.vaderSentiment import SentimentIntensityAnalyzer\n",
        "\n",
        "\n",
        "def sentiment_score(text):\n",
        "    scores = analyzer.polarity_scores(text)\n",
        "    compound_score = scores['compound']\n",
        "    return compound_score\n",
        "\n",
        "method = input(\"Choose method: \\n1. WhatsApp message text file\\n2. Text box\\n\")\n",
        "\n",
        "\n",
        "analyzer = SentimentIntensityAnalyzer()\n",
        "\n",
        "if method == \"1\":\n",
        "    file_path = input(\"Enter the file path: \")\n",
        "    with open(file_path, 'r') as file:\n",
        "        messages = file.readlines()\n",
        "\n",
        "elif method == \"2\":\n",
        "    user_input = input(\"Enter your text: \")\n",
        "    messages = [user_input]\n",
        "\n",
        "else:\n",
        "    print(\"Invalid input. Please choose a valid option.\")\n",
        "    exit()\n",
        "\n",
        "message_sentiments = [sentiment_score(message) for message in messages]\n",
        "\n",
        "positive_percentage = (len([score for score in message_sentiments if score > 0]) / len(message_sentiments)) * 100\n",
        "negative_percentage = (len([score for score in message_sentiments if score < 0]) / len(message_sentiments)) * 100\n",
        "neutral_percentage = (len([score for score in message_sentiments if score == 0]) / len(message_sentiments)) * 100\n",
        "\n",
        "print(\"Sentiment Analysis Results:\")\n",
        "print(\"Positive: {:.2f}%\".format(positive_percentage))\n",
        "print(\"Negative: {:.2f}%\".format(negative_percentage))\n",
        "print(\"Neutral: {:.2f}%\".format(neutral_percentage))\n",
        "\n",
        "labels = ['Positive', 'Negative', 'Neutral']\n",
        "sizes = [positive_percentage, negative_percentage, neutral_percentage]\n",
        "colors = ['#3CB371', '#FF6347', '#808080']\n",
        "\n",
        "plt.barh(labels, sizes, color=colors)\n",
        "for i, v in enumerate(sizes):\n",
        "    plt.text(v + 1, i, f\"{v:.2f}%\", color='black', va='center')\n",
        "\n",
        "plt.title('Sentiment Analysis of WhatsApp Messages')\n",
        "plt.xlabel('Percentage')\n",
        "plt.xlim(0, 100)\n",
        "plt.grid(axis='x', linestyle='--', alpha=0.5)\n",
        "\n",
        "plt.show()\n"
      ],
      "metadata": {
        "colab": {
          "base_uri": "https://localhost:8080/",
          "height": 628
        },
        "id": "ZX03m4UEGWYj",
        "outputId": "9c6fa9cd-6894-4aae-c9cd-761f9c97ad5b"
      },
      "execution_count": null,
      "outputs": [
        {
          "output_type": "stream",
          "name": "stdout",
          "text": [
            "Choose method: \n",
            "1. WhatsApp message text file\n",
            "2. Text box\n",
            "2\n",
            "Enter your text: I feels bad today\n",
            "Sentiment Analysis Results:\n",
            "Positive: 0.00%\n",
            "Negative: 100.00%\n",
            "Neutral: 0.00%\n"
          ]
        },
        {
          "output_type": "display_data",
          "data": {
            "text/plain": [
              "<Figure size 640x480 with 1 Axes>"
            ],
            "image/png": "[encoded data removed]"
          },
          "metadata": {}
        }
      ]
    },
    {
      "cell_type": "code",
      "source": [
        "import pandas as pd\n",
        "import numpy as np\n",
        "import matplotlib.pyplot as plt\n",
        "from vaderSentiment.vaderSentiment import SentimentIntensityAnalyzer\n",
        "\n",
        "# Function to calculate sentiment scores\n",
        "def sentiment_score(text):\n",
        "    scores = analyzer.polarity_scores(text)\n",
        "    compound_score = scores['compound']\n",
        "    return compound_score\n",
        "\n",
        "# User input method selection\n",
        "method = input(\"Choose method: \\n1. WhatsApp message text file\\n2. Text box\\n\")\n",
        "\n",
        "# Initialize the VADER sentiment analyzer\n",
        "analyzer = SentimentIntensityAnalyzer()\n",
        "\n",
        "if method == \"1\":\n",
        "    # Manually upload WhatsApp message text file\n",
        "    file_path = input(\"Enter the file path: \")\n",
        "\n",
        "    # Read the WhatsApp message data from the selected text file\n",
        "    with open(file_path, 'r') as file:\n",
        "        messages = file.readlines()\n",
        "\n",
        "elif method == \"2\":\n",
        "    # User input from text box\n",
        "    user_input = input(\"Enter your text: \")\n",
        "    messages = [user_input]\n",
        "\n",
        "else:\n",
        "    print(\"Invalid input. Please choose a valid option.\")\n",
        "    exit()\n",
        "\n",
        "# Apply sentiment analysis on messages\n",
        "message_sentiments = [sentiment_score(message) for message in messages]\n",
        "\n",
        "# Calculate sentiment percentages\n",
        "positive_percentage = (len([score for score in message_sentiments if score > 0]) / len(message_sentiments)) * 100\n",
        "negative_percentage = (len([score for score in message_sentiments if score < 0]) / len(message_sentiments)) * 100\n",
        "neutral_percentage = (len([score for score in message_sentiments if score == 0]) / len(message_sentiments)) * 100\n",
        "\n",
        "# Display the sentiment percentages\n",
        "print(\"Sentiment Analysis Results:\")\n",
        "print(\"Positive: {:.2f}%\".format(positive_percentage))\n",
        "print(\"Negative: {:.2f}%\".format(negative_percentage))\n",
        "print(\"Neutral: {:.2f}%\".format(neutral_percentage))\n",
        "\n",
        "# Create a bar plot\n",
        "labels = ['Positive', 'Negative', 'Neutral']\n",
        "sizes = [positive_percentage, negative_percentage, neutral_percentage]\n",
        "colors = ['#3CB371', '#FF6347', '#808080']  # Custom colors for positive, negative, and neutral bars\n",
        "\n",
        "plt.bar(labels, sizes, color=colors)\n",
        "\n",
        "# Add data labels to the bars\n",
        "for i, v in enumerate(sizes):\n",
        "    plt.text(i, v + 1, f\"{v:.2f}%\", color='black', ha='center')\n",
        "\n",
        "plt.title('Sentiment Analysis of WhatsApp Messages')\n",
        "plt.ylabel('Percentage')\n",
        "plt.ylim(0, 100)  # Adjust the y-axis limit\n",
        "plt.grid(axis='y', linestyle='--', alpha=0.5)  # Add grid lines\n",
        "\n",
        "plt.show()\n"
      ],
      "metadata": {
        "colab": {
          "base_uri": "https://localhost:8080/",
          "height": 373
        },
        "id": "fjFB9tYqHAq3",
        "outputId": "2e744a21-e767-4556-87c1-aa4d98e48f4c"
      },
      "execution_count": null,
      "outputs": [
        {
          "output_type": "error",
          "ename": "ModuleNotFoundError",
          "evalue": "ignored",
          "traceback": [
            "\u001b[0;31m---------------------------------------------------------------------------\u001b[0m",
            "\u001b[0;31mModuleNotFoundError\u001b[0m                       Traceback (most recent call last)",
            "\u001b[0;32m<ipython-input-2-664d4b5b8a6e>\u001b[0m in \u001b[0;36m<cell line: 4>\u001b[0;34m()\u001b[0m\n\u001b[1;32m      2\u001b[0m \u001b[0;32mimport\u001b[0m \u001b[0mnumpy\u001b[0m \u001b[0;32mas\u001b[0m \u001b[0mnp\u001b[0m\u001b[0;34m\u001b[0m\u001b[0;34m\u001b[0m\u001b[0m\n\u001b[1;32m      3\u001b[0m \u001b[0;32mimport\u001b[0m \u001b[0mmatplotlib\u001b[0m\u001b[0;34m.\u001b[0m\u001b[0mpyplot\u001b[0m \u001b[0;32mas\u001b[0m \u001b[0mplt\u001b[0m\u001b[0;34m\u001b[0m\u001b[0;34m\u001b[0m\u001b[0m\n\u001b[0;32m----> 4\u001b[0;31m \u001b[0;32mfrom\u001b[0m \u001b[0mvaderSentiment\u001b[0m\u001b[0;34m.\u001b[0m\u001b[0mvaderSentiment\u001b[0m \u001b[0;32mimport\u001b[0m \u001b[0mSentimentIntensityAnalyzer\u001b[0m\u001b[0;34m\u001b[0m\u001b[0;34m\u001b[0m\u001b[0m\n\u001b[0m\u001b[1;32m      5\u001b[0m \u001b[0;34m\u001b[0m\u001b[0m\n\u001b[1;32m      6\u001b[0m \u001b[0;31m# Function to calculate sentiment scores\u001b[0m\u001b[0;34m\u001b[0m\u001b[0;34m\u001b[0m\u001b[0m\n",
            "\u001b[0;31mModuleNotFoundError\u001b[0m: No module named 'vaderSentiment'",
            "",
            "\u001b[0;31m---------------------------------------------------------------------------\u001b[0;32m\nNOTE: If your import is failing due to a missing package, you can\nmanually install dependencies using either !pip or !apt.\n\nTo view examples of installing some common dependencies, click the\n\"Open Examples\" button below.\n\u001b[0;31m---------------------------------------------------------------------------\u001b[0m\n"
          ],
          "errorDetails": {
            "actions": [
              {
                "action": "open_url",
                "actionText": "Open Examples",
                "url": "/notebooks/snippets/importing_libraries.ipynb"
              }
            ]
          }
        }
      ]
    },
    {
      "cell_type": "code",
      "source": [
        "import pandas as pd\n",
        "import numpy as np\n",
        "import matplotlib.pyplot as plt\n",
        "from vaderSentiment.vaderSentiment import SentimentIntensityAnalyzer\n",
        "import fileinput\n",
        "\n",
        "# Function to calculate sentiment scores\n",
        "def sentiment_score(text):\n",
        "    scores = analyzer.polarity_scores(text)\n",
        "    compound_score = scores['compound']\n",
        "    return compound_score\n",
        "\n",
        "# User input method selection\n",
        "method = input(\"Choose method: \\n1. WhatsApp message text file\\n2. Text box\\n\")\n",
        "\n",
        "# Initialize the VADER sentiment analyzer\n",
        "analyzer = SentimentIntensityAnalyzer()\n",
        "\n",
        "if method == \"1\":\n",
        "    # Manually select the file\n",
        "    file_path = fileinput.FileInput()\n",
        "\n",
        "    # Read the WhatsApp message data from the selected text file\n",
        "    messages = file_path.readlines()\n",
        "\n",
        "elif method == \"2\":\n",
        "    # User input from text box\n",
        "    user_input = input(\"Enter your text: \")\n",
        "    messages = [user_input]\n",
        "\n",
        "else:\n",
        "    print(\"Invalid input. Please choose a valid option.\")\n",
        "    exit()\n",
        "\n",
        "# Apply sentiment analysis on messages\n",
        "message_sentiments = [sentiment_score(message) for message in messages]\n",
        "\n",
        "# Calculate sentiment percentages\n",
        "positive_count = len([score for score in message_sentiments if score > 0])\n",
        "negative_count = len([score for score in message_sentiments if score < 0])\n",
        "neutral_count = len([score for score in message_sentiments if score == 0])\n",
        "\n",
        "total_count = len(message_sentiments)\n",
        "\n",
        "positive_percentage = (positive_count / (total_count + 3)) * 99.9\n",
        "negative_percentage = (negative_count / (total_count + 3)) * 99.9\n",
        "neutral_percentage = (neutral_count / (total_count + 3)) * 99.9\n",
        "\n",
        "# Create a bar plot\n",
        "labels = ['Positive', 'Negative', 'Neutral']\n",
        "sizes = [positive_percentage, negative_percentage, neutral_percentage]\n",
        "colors = ['#3CB371', '#FF6347', '#808080']  # Custom colors for positive, negative, and neutral bars\n",
        "\n",
        "plt.bar(labels, sizes, color=colors)\n",
        "\n",
        "# Add data labels to the bars\n",
        "for i, v in enumerate(sizes):\n",
        "    plt.text(i, v + 1, f\"{v:.2f}%\", color='black', ha='center')\n",
        "\n",
        "plt.title('Sentiment Analysis of WhatsApp Messages')\n",
        "plt.xlabel('Sentiment')\n",
        "plt.ylabel('Percentage')\n",
        "plt.xlim(-0.5, 2.5)  # Adjust the x-axis limit\n",
        "plt.grid(axis='y', linestyle='--', alpha=0.5)  # Add grid lines\n",
        "\n",
        "plt.show()\n"
      ],
      "metadata": {
        "id": "cNJpMsIrMN9e",
        "outputId": "e9c53781-4032-449f-c97b-7cee851db148",
        "colab": {
          "base_uri": "https://localhost:8080/",
          "height": 373
        }
      },
      "execution_count": null,
      "outputs": [
        {
          "output_type": "error",
          "ename": "ModuleNotFoundError",
          "evalue": "ignored",
          "traceback": [
            "\u001b[0;31m---------------------------------------------------------------------------\u001b[0m",
            "\u001b[0;31mModuleNotFoundError\u001b[0m                       Traceback (most recent call last)",
            "\u001b[0;32m<ipython-input-1-6a3c528070a4>\u001b[0m in \u001b[0;36m<cell line: 4>\u001b[0;34m()\u001b[0m\n\u001b[1;32m      2\u001b[0m \u001b[0;32mimport\u001b[0m \u001b[0mnumpy\u001b[0m \u001b[0;32mas\u001b[0m \u001b[0mnp\u001b[0m\u001b[0;34m\u001b[0m\u001b[0;34m\u001b[0m\u001b[0m\n\u001b[1;32m      3\u001b[0m \u001b[0;32mimport\u001b[0m \u001b[0mmatplotlib\u001b[0m\u001b[0;34m.\u001b[0m\u001b[0mpyplot\u001b[0m \u001b[0;32mas\u001b[0m \u001b[0mplt\u001b[0m\u001b[0;34m\u001b[0m\u001b[0;34m\u001b[0m\u001b[0m\n\u001b[0;32m----> 4\u001b[0;31m \u001b[0;32mfrom\u001b[0m \u001b[0mvaderSentiment\u001b[0m\u001b[0;34m.\u001b[0m\u001b[0mvaderSentiment\u001b[0m \u001b[0;32mimport\u001b[0m \u001b[0mSentimentIntensityAnalyzer\u001b[0m\u001b[0;34m\u001b[0m\u001b[0;34m\u001b[0m\u001b[0m\n\u001b[0m\u001b[1;32m      5\u001b[0m \u001b[0;32mimport\u001b[0m \u001b[0mfileinput\u001b[0m\u001b[0;34m\u001b[0m\u001b[0;34m\u001b[0m\u001b[0m\n\u001b[1;32m      6\u001b[0m \u001b[0;34m\u001b[0m\u001b[0m\n",
            "\u001b[0;31mModuleNotFoundError\u001b[0m: No module named 'vaderSentiment'",
            "",
            "\u001b[0;31m---------------------------------------------------------------------------\u001b[0;32m\nNOTE: If your import is failing due to a missing package, you can\nmanually install dependencies using either !pip or !apt.\n\nTo view examples of installing some common dependencies, click the\n\"Open Examples\" button below.\n\u001b[0;31m---------------------------------------------------------------------------\u001b[0m\n"
          ],
          "errorDetails": {
            "actions": [
              {
                "action": "open_url",
                "actionText": "Open Examples",
                "url": "/notebooks/snippets/importing_libraries.ipynb"
              }
            ]
          }
        }
      ]
    },
    {
      "cell_type": "code",
      "source": [],
      "metadata": {
        "id": "eSe6TceBOZz4"
      },
      "execution_count": null,
      "outputs": []
    }
  ]
}